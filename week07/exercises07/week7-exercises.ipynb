{
 "cells": [
  {
   "cell_type": "markdown",
   "id": "663abfc2",
   "metadata": {},
   "source": [
    "### Exercise Tutorial Week 7\n",
    "# Creating reproducible code.\n",
    "\n",
    "## Question 1.\n",
    "For this course, you worked on a group-assignment for which you collaborated with others to write a Python script to develop a recommender system. Individually, take the script that you created with your group, and review it.\n",
    "\n",
    "What aspects of your script enhance its reproducibility? "
   ]
  },
  {
   "cell_type": "code",
   "execution_count": null,
   "id": "2a31ae64",
   "metadata": {},
   "outputs": [],
   "source": [
    "### Your answer:"
   ]
  },
  {
   "cell_type": "markdown",
   "id": "73d61c2d",
   "metadata": {},
   "source": [
    "## Question 2.\n",
    "What aspects of your script make it less reproducible?"
   ]
  },
  {
   "cell_type": "code",
   "execution_count": null,
   "id": "bdebdfb9",
   "metadata": {},
   "outputs": [],
   "source": [
    "### Your answer:"
   ]
  },
  {
   "cell_type": "markdown",
   "id": "1d3d3b04",
   "metadata": {},
   "source": [
    "## Question 3.\n",
    "Based on the guidelines for reproducible code as discussed in the lecture, can you identify ways to make your code more readible? Adjust your code and improve it as much as you can. Copy/paste your new code here."
   ]
  },
  {
   "cell_type": "code",
   "execution_count": null,
   "id": "dfb0eb1b",
   "metadata": {},
   "outputs": [],
   "source": [
    "### Your answer:"
   ]
  },
  {
   "cell_type": "markdown",
   "id": "4580758c",
   "metadata": {},
   "source": [
    "## Question 4.\n",
    "During the tutorial, you will come together with your group and exchange your answers to this exercise. Can you make the best code together in terms of readability and reproducibilty?"
   ]
  },
  {
   "cell_type": "code",
   "execution_count": null,
   "id": "52c9dc8a-c048-4214-ad31-846250f8aef1",
   "metadata": {},
   "outputs": [],
   "source": [
    "### Your answer:"
   ]
  },
  {
   "cell_type": "markdown",
   "id": "6f15e189-3613-4d25-92a3-512645f6dc49",
   "metadata": {},
   "source": [
    "## Question 5.\n",
    "\n",
    "During the tutorial, you will come together with your group and exchange your answers to this exercise. Can you make the best code together in terms of readability and reproducibilty?"
   ]
  }
 ],
 "metadata": {
  "kernelspec": {
   "display_name": "Python 3 (ipykernel)",
   "language": "python",
   "name": "python3"
  },
  "language_info": {
   "codemirror_mode": {
    "name": "ipython",
    "version": 3
   },
   "file_extension": ".py",
   "mimetype": "text/x-python",
   "name": "python",
   "nbconvert_exporter": "python",
   "pygments_lexer": "ipython3",
   "version": "3.9.6"
  }
 },
 "nbformat": 4,
 "nbformat_minor": 5
}
